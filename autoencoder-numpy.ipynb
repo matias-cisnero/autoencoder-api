{
 "cells": [
  {
   "cell_type": "markdown",
   "id": "d1a7d479",
   "metadata": {},
   "source": [
    "Carga de librerias"
   ]
  },
  {
   "cell_type": "code",
   "execution_count": 1,
   "id": "199815d5",
   "metadata": {},
   "outputs": [],
   "source": [
    "import numpy as np\n",
    "import matplotlib.pyplot as plt\n",
    "import matplotlib.patheffects as path_effects"
   ]
  },
  {
   "cell_type": "markdown",
   "id": "069395a9",
   "metadata": {},
   "source": [
    "# Datos"
   ]
  },
  {
   "cell_type": "markdown",
   "id": "65718dea",
   "metadata": {},
   "source": [
    "Funciones para transformar los datos"
   ]
  },
  {
   "cell_type": "code",
   "execution_count": 2,
   "id": "3b1d4a0d",
   "metadata": {},
   "outputs": [],
   "source": [
    "import numpy as np\n",
    "\n",
    "def aplanar(datos, cantidad=10):\n",
    "  datos = np.split(datos, cantidad)\n",
    "  return np.array([ejem.flatten(order='C') for ejem in datos])\n",
    "\n",
    "def des_aplanar(datos, k=7, j=5):\n",
    "  datos = np.array(datos)\n",
    "  return np.array([ejem.reshape((k, j), order='C') for ejem in datos])\n",
    "\n",
    "def binario_a_matriz(datos):\n",
    "  matrices = []\n",
    "  for caracter in datos:\n",
    "    matriz = []\n",
    "    for byte in caracter:\n",
    "      fila = [(byte >> i) & 1 for i in range(4, -1, -1)]\n",
    "      matriz.append(fila)\n",
    "    matrices.append(matriz)\n",
    "  return np.array(matrices)"
   ]
  },
  {
   "cell_type": "markdown",
   "id": "0d75c461",
   "metadata": {},
   "source": [
    "Transformación de los datos"
   ]
  },
  {
   "cell_type": "code",
   "execution_count": 3,
   "id": "792b8726",
   "metadata": {},
   "outputs": [],
   "source": [
    "datos = [\n",
    "    [0x0e, 0x11, 0x17, 0x15, 0x17, 0x10, 0x0f],  # @\n",
    "    [0x04, 0x0a, 0x11, 0x11, 0x1f, 0x11, 0x11],  # A\n",
    "    [0x1e, 0x11, 0x11, 0x1e, 0x11, 0x11, 0x1e],  # B\n",
    "    [0x0e, 0x11, 0x10, 0x10, 0x10, 0x11, 0x0e],  # C\n",
    "    [0x1e, 0x09, 0x09, 0x09, 0x09, 0x09, 0x1e],  # D\n",
    "    [0x1f, 0x10, 0x10, 0x1c, 0x10, 0x10, 0x1f],  # E\n",
    "    [0x1f, 0x10, 0x10, 0x1f, 0x10, 0x10, 0x10],  # F\n",
    "    [0x0e, 0x11, 0x10, 0x10, 0x13, 0x11, 0x0f],  # G\n",
    "    [0x11, 0x11, 0x11, 0x1f, 0x11, 0x11, 0x11],  # H\n",
    "    [0x0e, 0x04, 0x04, 0x04, 0x04, 0x04, 0x0e],  # I\n",
    "    [0x1f, 0x02, 0x02, 0x02, 0x02, 0x12, 0x0c],  # J\n",
    "    [0x11, 0x12, 0x14, 0x18, 0x14, 0x12, 0x11],  # K\n",
    "    [0x10, 0x10, 0x10, 0x10, 0x10, 0x10, 0x1f],  # L\n",
    "    [0x11, 0x1b, 0x15, 0x11, 0x11, 0x11, 0x11],  # M\n",
    "    [0x11, 0x11, 0x19, 0x15, 0x13, 0x11, 0x11],  # N\n",
    "    [0x0e, 0x11, 0x11, 0x11, 0x11, 0x11, 0x0e],  # O\n",
    "    [0x1e, 0x11, 0x11, 0x1e, 0x10, 0x10, 0x10],  # P\n",
    "    [0x0e, 0x11, 0x11, 0x11, 0x15, 0x12, 0x0d],  # Q\n",
    "    [0x1e, 0x11, 0x11, 0x1e, 0x14, 0x12, 0x11],  # R\n",
    "    [0x0e, 0x11, 0x10, 0x0e, 0x01, 0x11, 0x0e],  # S\n",
    "    [0x1f, 0x04, 0x04, 0x04, 0x04, 0x04, 0x04],  # T\n",
    "    [0x11, 0x11, 0x11, 0x11, 0x11, 0x11, 0x0e],  # U\n",
    "    [0x11, 0x11, 0x11, 0x11, 0x11, 0x0a, 0x04],  # V\n",
    "    [0x11, 0x11, 0x11, 0x15, 0x15, 0x1b, 0x11],  # W\n",
    "    [0x11, 0x11, 0x0a, 0x04, 0x0a, 0x11, 0x11],  # X\n",
    "    [0x11, 0x11, 0x0a, 0x04, 0x04, 0x04, 0x04],  # Y\n",
    "    [0x1f, 0x01, 0x02, 0x04, 0x08, 0x10, 0x1f],  # Z\n",
    "    [0x0e, 0x08, 0x08, 0x08, 0x08, 0x08, 0x0e],  # [\n",
    "    [0x10, 0x10, 0x08, 0x04, 0x02, 0x01, 0x01],  # \\\n",
    "    [0x0e, 0x02, 0x02, 0x02, 0x02, 0x02, 0x0e],  # ]\n",
    "    [0x04, 0x0a, 0x11, 0x00, 0x00, 0x00, 0x00],  # ^\n",
    "    [0x00, 0x00, 0x00, 0x00, 0x00, 0x00, 0x1f],  # _\n",
    "]\n",
    "\n",
    "etiquetas = ['@', 'A', 'B', 'C', 'D', 'E', 'F', 'G', 'H', 'I', 'J', 'K', 'L', 'M', 'N', 'O', 'P', 'Q', 'R', 'S', 'T', 'U', 'V', 'W', 'X', 'Y', 'Z', '[', '\\\\', ']', '^', '_']\n",
    "\n",
    "matrices = binario_a_matriz(datos)\n",
    "\n",
    "x = aplanar(matrices, len(matrices)) # Datos enchorizados"
   ]
  },
  {
   "cell_type": "markdown",
   "id": "1d0defc5",
   "metadata": {},
   "source": [
    "# Modelos"
   ]
  },
  {
   "cell_type": "markdown",
   "id": "8bf6ab29",
   "metadata": {},
   "source": [
    "Funciones auxiliares"
   ]
  },
  {
   "cell_type": "code",
   "execution_count": 4,
   "id": "2e10617e",
   "metadata": {},
   "outputs": [],
   "source": [
    "def signo(h):\n",
    "  return 1 if h >= 0 else -1\n",
    "\n",
    "def g(h, β=1):\n",
    "  return 1 / (1 + np.exp(-2 * β * h))\n",
    "\n",
    "def g_derivada(h, β=1):\n",
    "  return 2 * β * g(h, β) * (1 - g(h, β))\n",
    "\n",
    "def binary_crossentropy(y, ypred):\n",
    "  ε = 1e-8  # evitar log(0)\n",
    "  return -np.mean(y * np.log(ypred + ε) + (1 - y) * np.log(1 - ypred + ε))\n",
    "\n",
    "def MSE(y, ypred):\n",
    "  return 1/2 * np.sum((y - ypred)**2)"
   ]
  },
  {
   "cell_type": "markdown",
   "id": "1fd5d944",
   "metadata": {},
   "source": [
    "Modelo autoencoder"
   ]
  },
  {
   "cell_type": "code",
   "execution_count": 5,
   "id": "9d23e8e7",
   "metadata": {},
   "outputs": [],
   "source": [
    "def autoencoder(x, y, η, epocas):\n",
    "  np.random.seed(11)\n",
    "\n",
    "  # Cantidad de neuronas\n",
    "  entrada = salida = int(x.shape[1]) # Igual que salida\n",
    "  oculta1 = oculta2 = 20 # Ambas del mismo tamaño\n",
    "  latente = 2\n",
    "\n",
    "  # Creo mis pesos\n",
    "  w1 = np.random.normal(0, 0.1, (entrada, oculta1))\n",
    "  w2 = np.random.normal(0, 0.1, (oculta1, latente))\n",
    "  w3 = np.random.normal(0, 0.1, (latente, oculta2))\n",
    "  w4 = np.random.normal(0, 0.1, (oculta2, salida))\n",
    "\n",
    "  # Creo mis sesgos\n",
    "  b1 = np.zeros((1, oculta1))\n",
    "  b2 = np.zeros((1, latente))\n",
    "  b3 = np.zeros((1, oculta2))\n",
    "  b4 = np.zeros((1, salida))\n",
    "\n",
    "  error = np.inf\n",
    "  error_min = np.inf\n",
    "  errores = []\n",
    "\n",
    "  for _ in range(epocas):\n",
    "    indices = np.random.permutation(x.shape[0])\n",
    "\n",
    "    for indice in indices:\n",
    "      Vk = x[indice].reshape(1, -1)\n",
    "      yk = y[indice].reshape(1, -1)\n",
    "\n",
    "      # Propagar\n",
    "      h1 = Vk @ w1 + b1\n",
    "      V1 = g(h1)\n",
    "\n",
    "      h2 = V1 @ w2 + b2\n",
    "      V2 = g(h2)\n",
    "\n",
    "      h3 = V2 @ w3 + b3\n",
    "      V3 = g(h3)\n",
    "\n",
    "      h4 = V3 @ w4 + b4\n",
    "      V4 = g(h4)\n",
    "\n",
    "      # Retropropagar\n",
    "      δ4 = g_derivada(h4) * (yk - V4)\n",
    "      δ3 = g_derivada(h3) * (δ4 @ w4.T)\n",
    "      δ2 = g_derivada(h2) * (δ3 @ w3.T)\n",
    "      δ1 = g_derivada(h1) * (δ2 @ w2.T)\n",
    "\n",
    "      # Actualización de pesos y sesgos\n",
    "      w4 += η * (V3.T @ δ4)\n",
    "      b4 += η * δ4\n",
    "\n",
    "      w3 += η * (V2.T @ δ3)\n",
    "      b3 += η * δ3\n",
    "\n",
    "      w2 += η * (V1.T @ δ2)\n",
    "      b2 += η * δ2\n",
    "\n",
    "      w1 += η * (Vk.T @ δ1)\n",
    "      b1 += η * δ1\n",
    "\n",
    "      #Calculo de error\n",
    "      error = binary_crossentropy(yk, V4)\n",
    "\n",
    "      if error < error_min:\n",
    "        error_min = error\n",
    "        w1_min, w2_min, w3_min, w4_min = w1.copy(), w2.copy(), w3.copy(), w4.copy()\n",
    "        b1_min, b2_min, b3_min, b4_min = b1.copy(), b2.copy(), b3.copy(), b4.copy()\n",
    "\n",
    "    errores.append(error_min)\n",
    "\n",
    "  print(f\"Entrenamiento realizado con {epocas} epocas y error mínimo alcanzado: {error_min}\")\n",
    "  plt.plot(errores)\n",
    "  plt.title(\"Error por época\")\n",
    "  plt.xlabel(\"Época\")\n",
    "  plt.ylabel(\"Error\")\n",
    "  plt.grid()\n",
    "  plt.show()\n",
    "  return w1_min, w2_min, w3_min, w4_min, b1_min, b2_min, b3_min, b4_min\n",
    "\n",
    "def predecir_autoencoder(Vk, w1, w2, w3, w4, b1, b2, b3, b4):\n",
    "  V1 = g(Vk @ w1 + b1)\n",
    "  V2 = g(V1 @ w2 + b2)\n",
    "  V3 = g(V2 @ w3 + b3)\n",
    "  V4 = g(V3 @ w4 + b4)\n",
    "  return V4"
   ]
  },
  {
   "cell_type": "markdown",
   "id": "004e7633",
   "metadata": {},
   "source": [
    "Encoder y decoder"
   ]
  },
  {
   "cell_type": "code",
   "execution_count": 6,
   "id": "650978fd",
   "metadata": {},
   "outputs": [],
   "source": [
    "def encoder(Vk, w1, w2, b1, b2):\n",
    "  V1 = g(Vk @ w1 + b1)\n",
    "  V2 = g(V1 @ w2 + b2)\n",
    "  return V2\n",
    "\n",
    "def decoder(V_latente, w3, w4, b3, b4):\n",
    "  V3 = g(V_latente @ w3 + b3)\n",
    "  V4 = g(V3 @ w4 + b4)\n",
    "  return V4"
   ]
  },
  {
   "cell_type": "markdown",
   "id": "450ced5b",
   "metadata": {},
   "source": [
    "# Pruebas autoencoder"
   ]
  },
  {
   "cell_type": "markdown",
   "id": "f1ce0f20",
   "metadata": {},
   "source": [
    "Prueba autoencoder"
   ]
  },
  {
   "cell_type": "code",
   "execution_count": 7,
   "id": "b9f4c220",
   "metadata": {},
   "outputs": [
    {
     "name": "stdout",
     "output_type": "stream",
     "text": [
      "Entrenamiento realizado con 3000 epocas y error mínimo alcanzado: 0.01736085440160021\n"
     ]
    },
    {
     "data": {
      "image/png": "[encoded data removed]",
      "text/plain": [
       "<Figure size 640x480 with 1 Axes>"
      ]
     },
     "metadata": {},
     "output_type": "display_data"
    }
   ],
   "source": [
    "w1, w2, w3, w4, b1, b2, b3, b4 = autoencoder(x, x, 0.1, 3000)"
   ]
  },
  {
   "cell_type": "markdown",
   "id": "25cd6417",
   "metadata": {},
   "source": [
    "Predicciones"
   ]
  },
  {
   "cell_type": "code",
   "execution_count": 8,
   "id": "3902519b",
   "metadata": {},
   "outputs": [
    {
     "name": "stdout",
     "output_type": "stream",
     "text": [
      "[1 0 0 0 0 1 1 0 1 0 1 0 0 0 1 1 0 0 0 1 1 1 1 1 1 1 0 0 0 1 1 0 0 0 1]\n",
      "[0 0 1 0 0 0 1 0 1 0 1 0 0 0 1 1 0 0 0 1 1 1 1 1 1 1 0 0 0 1 1 0 0 0 1]\n"
     ]
    }
   ],
   "source": [
    "ypred = predecir_autoencoder(x, w1, w2, w3, w4, b1, b2, b3, b4)\n",
    "reconstruccion = np.round(ypred).astype(int)\n",
    "#ypred = des_aplanar(ypred, 5, 7)\n",
    "print(reconstruccion[1])\n",
    "print(x[1])"
   ]
  },
  {
   "cell_type": "code",
   "execution_count": 9,
   "id": "1bcf1b6b",
   "metadata": {},
   "outputs": [
    {
     "data": {
      "text/plain": [
       "array([[1, 0, 0, 0, 0],\n",
       "       [1, 1, 0, 1, 0],\n",
       "       [1, 0, 0, 0, 1],\n",
       "       [1, 0, 0, 0, 1],\n",
       "       [1, 1, 1, 1, 1],\n",
       "       [1, 0, 0, 0, 1],\n",
       "       [1, 0, 0, 0, 1]])"
      ]
     },
     "execution_count": 9,
     "metadata": {},
     "output_type": "execute_result"
    }
   ],
   "source": [
    "matriz_nueva = des_aplanar(reconstruccion, 7, 5)\n",
    "matriz_nueva[1]"
   ]
  },
  {
   "cell_type": "markdown",
   "id": "053d68d9",
   "metadata": {},
   "source": [
    "# Pruebas Encoder"
   ]
  },
  {
   "cell_type": "markdown",
   "id": "e856c784",
   "metadata": {},
   "source": [
    "Función para graficar capa latente"
   ]
  },
  {
   "cell_type": "code",
   "execution_count": 10,
   "id": "6c5abe8a",
   "metadata": {},
   "outputs": [],
   "source": [
    "def graficar_capa_latente(codificados, etiquetas, fontsize=12, fcolor='black'):\n",
    "  plt.figure(figsize=(10,8))\n",
    "  plt.scatter(codificados[:,0], codificados[:,1], color='white')\n",
    "\n",
    "  for i, etiqueta in enumerate(etiquetas):\n",
    "      x1, y1 = codificados[i, 0], codificados[i, 1]\n",
    "      texto = plt.text(x1, y1, etiqueta, fontsize=fontsize, ha='center', va='center', color='white')\n",
    "      texto.set_path_effects([\n",
    "          path_effects.Stroke(linewidth=(int(fontsize/8)), foreground=fcolor),  # contorno negro\n",
    "          path_effects.Normal()  # texto original encima\n",
    "      ])\n",
    "\n",
    "  #plt.title('Representaciones latentes con contorno en las etiquetas')\n",
    "  # Si se usa referencia el gráfico no debe tener titulo\n",
    "  plt.grid(True)\n",
    "  plt.xlim(-0.05, 1.05)\n",
    "  plt.ylim(-0.05, 1.05)\n",
    "  plt.show()"
   ]
  },
  {
   "cell_type": "code",
   "execution_count": 11,
   "id": "7335af65",
   "metadata": {},
   "outputs": [
    {
     "data": {
      "image/png": "[encoded data removed]",
      "text/plain": [
       "<Figure size 1000x800 with 1 Axes>"
      ]
     },
     "metadata": {},
     "output_type": "display_data"
    }
   ],
   "source": [
    "codificados1 = encoder(x, w1, w2, b1, b2)\n",
    "\n",
    "graficar_capa_latente(codificados1, etiquetas, 32)"
   ]
  }
 ],
 "metadata": {
  "kernelspec": {
   "display_name": "tf-cpu-env",
   "language": "python",
   "name": "python3"
  },
  "language_info": {
   "codemirror_mode": {
    "name": "ipython",
    "version": 3
   },
   "file_extension": ".py",
   "mimetype": "text/x-python",
   "name": "python",
   "nbconvert_exporter": "python",
   "pygments_lexer": "ipython3",
   "version": "3.10.11"
  }
 },
 "nbformat": 4,
 "nbformat_minor": 5
}
